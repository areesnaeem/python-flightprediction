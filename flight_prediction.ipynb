{
 "cells": [
  {
   "attachments": {},
   "cell_type": "markdown",
   "metadata": {},
   "source": [
    "# Flight price prediction model"
   ]
  },
  {
   "attachments": {},
   "cell_type": "markdown",
   "metadata": {},
   "source": [
    "# Complete case study of ML algorithms with respect to data available"
   ]
  },
  {
   "attachments": {},
   "cell_type": "markdown",
   "metadata": {},
   "source": [
    "# 1. Expolatory Data analysis"
   ]
  },
  {
   "cell_type": "code",
   "execution_count": 1,
   "metadata": {},
   "outputs": [],
   "source": [
    "# import libraries\n",
    "\n",
    "import pandas as pd\n",
    "import numpy as np\n",
    "import matplotlib.pyplot as plt\n",
    "import seaborn as sns\n"
   ]
  },
  {
   "cell_type": "code",
   "execution_count": 2,
   "metadata": {},
   "outputs": [
    {
     "data": {
      "text/plain": [
       "(5000, 14)"
      ]
     },
     "execution_count": 2,
     "metadata": {},
     "output_type": "execute_result"
    }
   ],
   "source": [
    "# load your data\n",
    "df= pd.read_csv('sastaticket_train.csv')\n",
    "df.shape"
   ]
  },
  {
   "cell_type": "code",
   "execution_count": 3,
   "metadata": {},
   "outputs": [
    {
     "data": {
      "text/html": [
       "<div>\n",
       "<style scoped>\n",
       "    .dataframe tbody tr th:only-of-type {\n",
       "        vertical-align: middle;\n",
       "    }\n",
       "\n",
       "    .dataframe tbody tr th {\n",
       "        vertical-align: top;\n",
       "    }\n",
       "\n",
       "    .dataframe thead th {\n",
       "        text-align: right;\n",
       "    }\n",
       "</style>\n",
       "<table border=\"1\" class=\"dataframe\">\n",
       "  <thead>\n",
       "    <tr style=\"text-align: right;\">\n",
       "      <th></th>\n",
       "      <th>Unnamed: 0.2</th>\n",
       "      <th>Unnamed: 0</th>\n",
       "      <th>f1</th>\n",
       "      <th>f2</th>\n",
       "      <th>f3</th>\n",
       "      <th>f4</th>\n",
       "      <th>f5</th>\n",
       "      <th>f6</th>\n",
       "      <th>f7</th>\n",
       "      <th>f8</th>\n",
       "      <th>f9</th>\n",
       "      <th>f10</th>\n",
       "      <th>Unnamed: 0.1</th>\n",
       "      <th>target</th>\n",
       "    </tr>\n",
       "  </thead>\n",
       "  <tbody>\n",
       "    <tr>\n",
       "      <th>0</th>\n",
       "      <td>276919</td>\n",
       "      <td>276919</td>\n",
       "      <td>2021-01-08 12:43:27.828728+00:00</td>\n",
       "      <td>x</td>\n",
       "      <td>y</td>\n",
       "      <td>2021-01-23 05:00:00+00:00</td>\n",
       "      <td>2021-01-23 07:00:00+00:00</td>\n",
       "      <td>gamma</td>\n",
       "      <td>True</td>\n",
       "      <td>0.0</td>\n",
       "      <td>0</td>\n",
       "      <td>c-2</td>\n",
       "      <td>276919</td>\n",
       "      <td>7400.0</td>\n",
       "    </tr>\n",
       "    <tr>\n",
       "      <th>1</th>\n",
       "      <td>12092463</td>\n",
       "      <td>12092463</td>\n",
       "      <td>2021-07-01 04:45:11.397541+00:00</td>\n",
       "      <td>x</td>\n",
       "      <td>y</td>\n",
       "      <td>2021-07-01 13:00:00+00:00</td>\n",
       "      <td>2021-07-01 15:00:00+00:00</td>\n",
       "      <td>alpha</td>\n",
       "      <td>True</td>\n",
       "      <td>35.0</td>\n",
       "      <td>1</td>\n",
       "      <td>a-9</td>\n",
       "      <td>12092463</td>\n",
       "      <td>15377.0</td>\n",
       "    </tr>\n",
       "    <tr>\n",
       "      <th>2</th>\n",
       "      <td>11061788</td>\n",
       "      <td>11061788</td>\n",
       "      <td>2021-06-24 11:28:47.565115+00:00</td>\n",
       "      <td>x</td>\n",
       "      <td>y</td>\n",
       "      <td>2021-07-29 14:00:00+00:00</td>\n",
       "      <td>2021-07-29 16:00:00+00:00</td>\n",
       "      <td>gamma</td>\n",
       "      <td>True</td>\n",
       "      <td>20.0</td>\n",
       "      <td>1</td>\n",
       "      <td>c-4</td>\n",
       "      <td>11061788</td>\n",
       "      <td>6900.0</td>\n",
       "    </tr>\n",
       "    <tr>\n",
       "      <th>3</th>\n",
       "      <td>8799808</td>\n",
       "      <td>8799808</td>\n",
       "      <td>2021-06-05 11:09:48.655927+00:00</td>\n",
       "      <td>x</td>\n",
       "      <td>y</td>\n",
       "      <td>2021-06-09 16:00:00+00:00</td>\n",
       "      <td>2021-06-09 18:00:00+00:00</td>\n",
       "      <td>alpha</td>\n",
       "      <td>True</td>\n",
       "      <td>15.0</td>\n",
       "      <td>1</td>\n",
       "      <td>a-23</td>\n",
       "      <td>8799808</td>\n",
       "      <td>9707.0</td>\n",
       "    </tr>\n",
       "    <tr>\n",
       "      <th>4</th>\n",
       "      <td>16391150</td>\n",
       "      <td>16391150</td>\n",
       "      <td>2021-07-29 09:53:51.065306+00:00</td>\n",
       "      <td>x</td>\n",
       "      <td>y</td>\n",
       "      <td>2021-08-23 05:00:00+00:00</td>\n",
       "      <td>2021-08-23 06:55:00+00:00</td>\n",
       "      <td>beta</td>\n",
       "      <td>True</td>\n",
       "      <td>20.0</td>\n",
       "      <td>0</td>\n",
       "      <td>b-1</td>\n",
       "      <td>16391150</td>\n",
       "      <td>6500.0</td>\n",
       "    </tr>\n",
       "  </tbody>\n",
       "</table>\n",
       "</div>"
      ],
      "text/plain": [
       "   Unnamed: 0.2  Unnamed: 0                                f1 f2 f3  \\\n",
       "0        276919      276919  2021-01-08 12:43:27.828728+00:00  x  y   \n",
       "1      12092463    12092463  2021-07-01 04:45:11.397541+00:00  x  y   \n",
       "2      11061788    11061788  2021-06-24 11:28:47.565115+00:00  x  y   \n",
       "3       8799808     8799808  2021-06-05 11:09:48.655927+00:00  x  y   \n",
       "4      16391150    16391150  2021-07-29 09:53:51.065306+00:00  x  y   \n",
       "\n",
       "                          f4                         f5     f6    f7    f8  \\\n",
       "0  2021-01-23 05:00:00+00:00  2021-01-23 07:00:00+00:00  gamma  True   0.0   \n",
       "1  2021-07-01 13:00:00+00:00  2021-07-01 15:00:00+00:00  alpha  True  35.0   \n",
       "2  2021-07-29 14:00:00+00:00  2021-07-29 16:00:00+00:00  gamma  True  20.0   \n",
       "3  2021-06-09 16:00:00+00:00  2021-06-09 18:00:00+00:00  alpha  True  15.0   \n",
       "4  2021-08-23 05:00:00+00:00  2021-08-23 06:55:00+00:00   beta  True  20.0   \n",
       "\n",
       "   f9   f10  Unnamed: 0.1   target  \n",
       "0   0   c-2        276919   7400.0  \n",
       "1   1   a-9      12092463  15377.0  \n",
       "2   1   c-4      11061788   6900.0  \n",
       "3   1  a-23       8799808   9707.0  \n",
       "4   0   b-1      16391150   6500.0  "
      ]
     },
     "execution_count": 3,
     "metadata": {},
     "output_type": "execute_result"
    }
   ],
   "source": [
    "df.head()"
   ]
  },
  {
   "cell_type": "code",
   "execution_count": 4,
   "metadata": {},
   "outputs": [
    {
     "name": "stdout",
     "output_type": "stream",
     "text": [
      "rows,columns (5000, 14)\n"
     ]
    }
   ],
   "source": [
    "print('rows,columns', df.shape)"
   ]
  },
  {
   "cell_type": "code",
   "execution_count": 5,
   "metadata": {},
   "outputs": [
    {
     "name": "stdout",
     "output_type": "stream",
     "text": [
      "<class 'pandas.core.frame.DataFrame'>\n",
      "RangeIndex: 5000 entries, 0 to 4999\n",
      "Data columns (total 14 columns):\n",
      " #   Column        Non-Null Count  Dtype  \n",
      "---  ------        --------------  -----  \n",
      " 0   Unnamed: 0.2  5000 non-null   int64  \n",
      " 1   Unnamed: 0    5000 non-null   int64  \n",
      " 2   f1            5000 non-null   object \n",
      " 3   f2            5000 non-null   object \n",
      " 4   f3            5000 non-null   object \n",
      " 5   f4            5000 non-null   object \n",
      " 6   f5            5000 non-null   object \n",
      " 7   f6            5000 non-null   object \n",
      " 8   f7            5000 non-null   bool   \n",
      " 9   f8            5000 non-null   float64\n",
      " 10  f9            5000 non-null   int64  \n",
      " 11  f10           5000 non-null   object \n",
      " 12  Unnamed: 0.1  5000 non-null   int64  \n",
      " 13  target        5000 non-null   float64\n",
      "dtypes: bool(1), float64(2), int64(4), object(7)\n",
      "memory usage: 512.8+ KB\n"
     ]
    }
   ],
   "source": [
    "# strucrue of df\n",
    "\n",
    "df.info()"
   ]
  },
  {
   "cell_type": "code",
   "execution_count": 6,
   "metadata": {},
   "outputs": [
    {
     "data": {
      "text/plain": [
       "Unnamed: 0.2    0\n",
       "Unnamed: 0      0\n",
       "f1              0\n",
       "f2              0\n",
       "f3              0\n",
       "f4              0\n",
       "f5              0\n",
       "f6              0\n",
       "f7              0\n",
       "f8              0\n",
       "f9              0\n",
       "f10             0\n",
       "Unnamed: 0.1    0\n",
       "target          0\n",
       "dtype: int64"
      ]
     },
     "execution_count": 6,
     "metadata": {},
     "output_type": "execute_result"
    }
   ],
   "source": [
    "# check null values\n",
    "df.isnull().sum()\n",
    "# no null value, data is calean"
   ]
  },
  {
   "cell_type": "code",
   "execution_count": 7,
   "metadata": {},
   "outputs": [
    {
     "data": {
      "text/html": [
       "<div>\n",
       "<style scoped>\n",
       "    .dataframe tbody tr th:only-of-type {\n",
       "        vertical-align: middle;\n",
       "    }\n",
       "\n",
       "    .dataframe tbody tr th {\n",
       "        vertical-align: top;\n",
       "    }\n",
       "\n",
       "    .dataframe thead th {\n",
       "        text-align: right;\n",
       "    }\n",
       "</style>\n",
       "<table border=\"1\" class=\"dataframe\">\n",
       "  <thead>\n",
       "    <tr style=\"text-align: right;\">\n",
       "      <th></th>\n",
       "      <th>Unnamed: 0.2</th>\n",
       "      <th>Unnamed: 0</th>\n",
       "      <th>f8</th>\n",
       "      <th>f9</th>\n",
       "      <th>Unnamed: 0.1</th>\n",
       "      <th>target</th>\n",
       "    </tr>\n",
       "  </thead>\n",
       "  <tbody>\n",
       "    <tr>\n",
       "      <th>count</th>\n",
       "      <td>5.000000e+03</td>\n",
       "      <td>5.000000e+03</td>\n",
       "      <td>5000.000000</td>\n",
       "      <td>5000.000000</td>\n",
       "      <td>5.000000e+03</td>\n",
       "      <td>5000.000000</td>\n",
       "    </tr>\n",
       "    <tr>\n",
       "      <th>mean</th>\n",
       "      <td>1.086293e+07</td>\n",
       "      <td>1.086293e+07</td>\n",
       "      <td>22.494400</td>\n",
       "      <td>0.944600</td>\n",
       "      <td>1.086293e+07</td>\n",
       "      <td>10104.351800</td>\n",
       "    </tr>\n",
       "    <tr>\n",
       "      <th>std</th>\n",
       "      <td>6.275456e+06</td>\n",
       "      <td>6.275456e+06</td>\n",
       "      <td>8.887101</td>\n",
       "      <td>0.607951</td>\n",
       "      <td>6.275456e+06</td>\n",
       "      <td>3359.936118</td>\n",
       "    </tr>\n",
       "    <tr>\n",
       "      <th>min</th>\n",
       "      <td>2.499000e+03</td>\n",
       "      <td>2.499000e+03</td>\n",
       "      <td>0.000000</td>\n",
       "      <td>0.000000</td>\n",
       "      <td>2.499000e+03</td>\n",
       "      <td>4990.000000</td>\n",
       "    </tr>\n",
       "    <tr>\n",
       "      <th>25%</th>\n",
       "      <td>5.417290e+06</td>\n",
       "      <td>5.417290e+06</td>\n",
       "      <td>20.000000</td>\n",
       "      <td>1.000000</td>\n",
       "      <td>5.417290e+06</td>\n",
       "      <td>7796.000000</td>\n",
       "    </tr>\n",
       "    <tr>\n",
       "      <th>50%</th>\n",
       "      <td>1.093803e+07</td>\n",
       "      <td>1.093803e+07</td>\n",
       "      <td>20.000000</td>\n",
       "      <td>1.000000</td>\n",
       "      <td>1.093803e+07</td>\n",
       "      <td>9403.000000</td>\n",
       "    </tr>\n",
       "    <tr>\n",
       "      <th>75%</th>\n",
       "      <td>1.621582e+07</td>\n",
       "      <td>1.621582e+07</td>\n",
       "      <td>32.000000</td>\n",
       "      <td>1.000000</td>\n",
       "      <td>1.621582e+07</td>\n",
       "      <td>11245.000000</td>\n",
       "    </tr>\n",
       "    <tr>\n",
       "      <th>max</th>\n",
       "      <td>2.177443e+07</td>\n",
       "      <td>2.177443e+07</td>\n",
       "      <td>45.000000</td>\n",
       "      <td>2.000000</td>\n",
       "      <td>2.177443e+07</td>\n",
       "      <td>33720.000000</td>\n",
       "    </tr>\n",
       "  </tbody>\n",
       "</table>\n",
       "</div>"
      ],
      "text/plain": [
       "       Unnamed: 0.2    Unnamed: 0           f8           f9  Unnamed: 0.1  \\\n",
       "count  5.000000e+03  5.000000e+03  5000.000000  5000.000000  5.000000e+03   \n",
       "mean   1.086293e+07  1.086293e+07    22.494400     0.944600  1.086293e+07   \n",
       "std    6.275456e+06  6.275456e+06     8.887101     0.607951  6.275456e+06   \n",
       "min    2.499000e+03  2.499000e+03     0.000000     0.000000  2.499000e+03   \n",
       "25%    5.417290e+06  5.417290e+06    20.000000     1.000000  5.417290e+06   \n",
       "50%    1.093803e+07  1.093803e+07    20.000000     1.000000  1.093803e+07   \n",
       "75%    1.621582e+07  1.621582e+07    32.000000     1.000000  1.621582e+07   \n",
       "max    2.177443e+07  2.177443e+07    45.000000     2.000000  2.177443e+07   \n",
       "\n",
       "             target  \n",
       "count   5000.000000  \n",
       "mean   10104.351800  \n",
       "std     3359.936118  \n",
       "min     4990.000000  \n",
       "25%     7796.000000  \n",
       "50%     9403.000000  \n",
       "75%    11245.000000  \n",
       "max    33720.000000  "
      ]
     },
     "execution_count": 7,
     "metadata": {},
     "output_type": "execute_result"
    }
   ],
   "source": [
    "df.describe()"
   ]
  },
  {
   "cell_type": "code",
   "execution_count": 8,
   "metadata": {},
   "outputs": [
    {
     "data": {
      "text/plain": [
       "Index(['Unnamed: 0.2', 'Unnamed: 0', 'f1', 'f2', 'f3', 'f4', 'f5', 'f6', 'f7',\n",
       "       'f8', 'f9', 'f10', 'Unnamed: 0.1', 'target'],\n",
       "      dtype='object')"
      ]
     },
     "execution_count": 8,
     "metadata": {},
     "output_type": "execute_result"
    }
   ],
   "source": [
    "df.columns"
   ]
  },
  {
   "cell_type": "code",
   "execution_count": 9,
   "metadata": {},
   "outputs": [],
   "source": [
    "# Dropping unnammed columns which a re not required in data\n",
    "df= df.drop(columns= ['Unnamed: 0.2','Unnamed: 0','Unnamed: 0.1'], axis=1)"
   ]
  },
  {
   "cell_type": "code",
   "execution_count": 10,
   "metadata": {},
   "outputs": [
    {
     "data": {
      "text/html": [
       "<div>\n",
       "<style scoped>\n",
       "    .dataframe tbody tr th:only-of-type {\n",
       "        vertical-align: middle;\n",
       "    }\n",
       "\n",
       "    .dataframe tbody tr th {\n",
       "        vertical-align: top;\n",
       "    }\n",
       "\n",
       "    .dataframe thead th {\n",
       "        text-align: right;\n",
       "    }\n",
       "</style>\n",
       "<table border=\"1\" class=\"dataframe\">\n",
       "  <thead>\n",
       "    <tr style=\"text-align: right;\">\n",
       "      <th></th>\n",
       "      <th>f1</th>\n",
       "      <th>f2</th>\n",
       "      <th>f3</th>\n",
       "      <th>f4</th>\n",
       "      <th>f5</th>\n",
       "      <th>f6</th>\n",
       "      <th>f7</th>\n",
       "      <th>f8</th>\n",
       "      <th>f9</th>\n",
       "      <th>f10</th>\n",
       "      <th>target</th>\n",
       "    </tr>\n",
       "  </thead>\n",
       "  <tbody>\n",
       "    <tr>\n",
       "      <th>0</th>\n",
       "      <td>2021-01-08 12:43:27.828728+00:00</td>\n",
       "      <td>x</td>\n",
       "      <td>y</td>\n",
       "      <td>2021-01-23 05:00:00+00:00</td>\n",
       "      <td>2021-01-23 07:00:00+00:00</td>\n",
       "      <td>gamma</td>\n",
       "      <td>True</td>\n",
       "      <td>0.0</td>\n",
       "      <td>0</td>\n",
       "      <td>c-2</td>\n",
       "      <td>7400.0</td>\n",
       "    </tr>\n",
       "    <tr>\n",
       "      <th>1</th>\n",
       "      <td>2021-07-01 04:45:11.397541+00:00</td>\n",
       "      <td>x</td>\n",
       "      <td>y</td>\n",
       "      <td>2021-07-01 13:00:00+00:00</td>\n",
       "      <td>2021-07-01 15:00:00+00:00</td>\n",
       "      <td>alpha</td>\n",
       "      <td>True</td>\n",
       "      <td>35.0</td>\n",
       "      <td>1</td>\n",
       "      <td>a-9</td>\n",
       "      <td>15377.0</td>\n",
       "    </tr>\n",
       "    <tr>\n",
       "      <th>2</th>\n",
       "      <td>2021-06-24 11:28:47.565115+00:00</td>\n",
       "      <td>x</td>\n",
       "      <td>y</td>\n",
       "      <td>2021-07-29 14:00:00+00:00</td>\n",
       "      <td>2021-07-29 16:00:00+00:00</td>\n",
       "      <td>gamma</td>\n",
       "      <td>True</td>\n",
       "      <td>20.0</td>\n",
       "      <td>1</td>\n",
       "      <td>c-4</td>\n",
       "      <td>6900.0</td>\n",
       "    </tr>\n",
       "    <tr>\n",
       "      <th>3</th>\n",
       "      <td>2021-06-05 11:09:48.655927+00:00</td>\n",
       "      <td>x</td>\n",
       "      <td>y</td>\n",
       "      <td>2021-06-09 16:00:00+00:00</td>\n",
       "      <td>2021-06-09 18:00:00+00:00</td>\n",
       "      <td>alpha</td>\n",
       "      <td>True</td>\n",
       "      <td>15.0</td>\n",
       "      <td>1</td>\n",
       "      <td>a-23</td>\n",
       "      <td>9707.0</td>\n",
       "    </tr>\n",
       "    <tr>\n",
       "      <th>4</th>\n",
       "      <td>2021-07-29 09:53:51.065306+00:00</td>\n",
       "      <td>x</td>\n",
       "      <td>y</td>\n",
       "      <td>2021-08-23 05:00:00+00:00</td>\n",
       "      <td>2021-08-23 06:55:00+00:00</td>\n",
       "      <td>beta</td>\n",
       "      <td>True</td>\n",
       "      <td>20.0</td>\n",
       "      <td>0</td>\n",
       "      <td>b-1</td>\n",
       "      <td>6500.0</td>\n",
       "    </tr>\n",
       "  </tbody>\n",
       "</table>\n",
       "</div>"
      ],
      "text/plain": [
       "                                 f1 f2 f3                         f4  \\\n",
       "0  2021-01-08 12:43:27.828728+00:00  x  y  2021-01-23 05:00:00+00:00   \n",
       "1  2021-07-01 04:45:11.397541+00:00  x  y  2021-07-01 13:00:00+00:00   \n",
       "2  2021-06-24 11:28:47.565115+00:00  x  y  2021-07-29 14:00:00+00:00   \n",
       "3  2021-06-05 11:09:48.655927+00:00  x  y  2021-06-09 16:00:00+00:00   \n",
       "4  2021-07-29 09:53:51.065306+00:00  x  y  2021-08-23 05:00:00+00:00   \n",
       "\n",
       "                          f5     f6    f7    f8  f9   f10   target  \n",
       "0  2021-01-23 07:00:00+00:00  gamma  True   0.0   0   c-2   7400.0  \n",
       "1  2021-07-01 15:00:00+00:00  alpha  True  35.0   1   a-9  15377.0  \n",
       "2  2021-07-29 16:00:00+00:00  gamma  True  20.0   1   c-4   6900.0  \n",
       "3  2021-06-09 18:00:00+00:00  alpha  True  15.0   1  a-23   9707.0  \n",
       "4  2021-08-23 06:55:00+00:00   beta  True  20.0   0   b-1   6500.0  "
      ]
     },
     "execution_count": 10,
     "metadata": {},
     "output_type": "execute_result"
    }
   ],
   "source": [
    "df.head()"
   ]
  },
  {
   "cell_type": "code",
   "execution_count": 11,
   "metadata": {},
   "outputs": [
    {
     "data": {
      "text/plain": [
       "array(['gamma', 'alpha', 'beta', 'omega'], dtype=object)"
      ]
     },
     "execution_count": 11,
     "metadata": {},
     "output_type": "execute_result"
    }
   ],
   "source": [
    "df['f6'].unique()"
   ]
  },
  {
   "cell_type": "code",
   "execution_count": 12,
   "metadata": {},
   "outputs": [
    {
     "name": "stdout",
     "output_type": "stream",
     "text": [
      "f2 ['x']\n",
      "-----------------\n",
      "f3 ['y']\n",
      "-----------------\n",
      "f6 ['gamma' 'alpha' 'beta' 'omega']\n",
      "-----------------\n",
      "f8 [ 0. 35. 20. 15. 32. 40. 45.]\n",
      "-----------------\n",
      "f9 [0 1 2]\n",
      "-----------------\n",
      "f10 ['c-2' 'a-9' 'c-4' 'a-23' 'b-1' 'a-5' 'b-9' 'a-7' 'd-1' 'c-6' 'a-1' 'd-5'\n",
      " 'b-69' 'b-19' 'd-3' 'b-319' 'b-369' 'b-67' 'b-73']\n",
      "-----------------\n"
     ]
    }
   ],
   "source": [
    "# Feature engineering\n",
    "# finding unique values in catagorical list\n",
    "\n",
    "cat_list= ['f2', 'f3', 'f6', 'f8', 'f9', 'f10']\n",
    "\n",
    "# now making loop to finding unique values in each catagorical columns\n",
    "for i in cat_list:\n",
    "    print(i, df[i].unique())\n",
    "    print('-----------------') # seperator line to add some beauty\n"
   ]
  },
  {
   "attachments": {},
   "cell_type": "markdown",
   "metadata": {},
   "source": [
    "**based upon above data, f2,f3 and f10 will be removed as not much linked to data as x,y only 1 unique value so departure and destination is same in all.similarly flight number is not linked to fare as it doesnt display with prices and have no impact on price.based on these things, we will drop those columns.**"
   ]
  },
  {
   "cell_type": "code",
   "execution_count": 13,
   "metadata": {},
   "outputs": [
    {
     "data": {
      "text/html": [
       "<div>\n",
       "<style scoped>\n",
       "    .dataframe tbody tr th:only-of-type {\n",
       "        vertical-align: middle;\n",
       "    }\n",
       "\n",
       "    .dataframe tbody tr th {\n",
       "        vertical-align: top;\n",
       "    }\n",
       "\n",
       "    .dataframe thead th {\n",
       "        text-align: right;\n",
       "    }\n",
       "</style>\n",
       "<table border=\"1\" class=\"dataframe\">\n",
       "  <thead>\n",
       "    <tr style=\"text-align: right;\">\n",
       "      <th></th>\n",
       "      <th>f1</th>\n",
       "      <th>f4</th>\n",
       "      <th>f5</th>\n",
       "      <th>f6</th>\n",
       "      <th>f7</th>\n",
       "      <th>f8</th>\n",
       "      <th>f9</th>\n",
       "      <th>target</th>\n",
       "    </tr>\n",
       "  </thead>\n",
       "  <tbody>\n",
       "    <tr>\n",
       "      <th>0</th>\n",
       "      <td>2021-01-08 12:43:27.828728+00:00</td>\n",
       "      <td>2021-01-23 05:00:00+00:00</td>\n",
       "      <td>2021-01-23 07:00:00+00:00</td>\n",
       "      <td>gamma</td>\n",
       "      <td>True</td>\n",
       "      <td>0.0</td>\n",
       "      <td>0</td>\n",
       "      <td>7400.0</td>\n",
       "    </tr>\n",
       "    <tr>\n",
       "      <th>1</th>\n",
       "      <td>2021-07-01 04:45:11.397541+00:00</td>\n",
       "      <td>2021-07-01 13:00:00+00:00</td>\n",
       "      <td>2021-07-01 15:00:00+00:00</td>\n",
       "      <td>alpha</td>\n",
       "      <td>True</td>\n",
       "      <td>35.0</td>\n",
       "      <td>1</td>\n",
       "      <td>15377.0</td>\n",
       "    </tr>\n",
       "    <tr>\n",
       "      <th>2</th>\n",
       "      <td>2021-06-24 11:28:47.565115+00:00</td>\n",
       "      <td>2021-07-29 14:00:00+00:00</td>\n",
       "      <td>2021-07-29 16:00:00+00:00</td>\n",
       "      <td>gamma</td>\n",
       "      <td>True</td>\n",
       "      <td>20.0</td>\n",
       "      <td>1</td>\n",
       "      <td>6900.0</td>\n",
       "    </tr>\n",
       "    <tr>\n",
       "      <th>3</th>\n",
       "      <td>2021-06-05 11:09:48.655927+00:00</td>\n",
       "      <td>2021-06-09 16:00:00+00:00</td>\n",
       "      <td>2021-06-09 18:00:00+00:00</td>\n",
       "      <td>alpha</td>\n",
       "      <td>True</td>\n",
       "      <td>15.0</td>\n",
       "      <td>1</td>\n",
       "      <td>9707.0</td>\n",
       "    </tr>\n",
       "    <tr>\n",
       "      <th>4</th>\n",
       "      <td>2021-07-29 09:53:51.065306+00:00</td>\n",
       "      <td>2021-08-23 05:00:00+00:00</td>\n",
       "      <td>2021-08-23 06:55:00+00:00</td>\n",
       "      <td>beta</td>\n",
       "      <td>True</td>\n",
       "      <td>20.0</td>\n",
       "      <td>0</td>\n",
       "      <td>6500.0</td>\n",
       "    </tr>\n",
       "  </tbody>\n",
       "</table>\n",
       "</div>"
      ],
      "text/plain": [
       "                                 f1                         f4  \\\n",
       "0  2021-01-08 12:43:27.828728+00:00  2021-01-23 05:00:00+00:00   \n",
       "1  2021-07-01 04:45:11.397541+00:00  2021-07-01 13:00:00+00:00   \n",
       "2  2021-06-24 11:28:47.565115+00:00  2021-07-29 14:00:00+00:00   \n",
       "3  2021-06-05 11:09:48.655927+00:00  2021-06-09 16:00:00+00:00   \n",
       "4  2021-07-29 09:53:51.065306+00:00  2021-08-23 05:00:00+00:00   \n",
       "\n",
       "                          f5     f6    f7    f8  f9   target  \n",
       "0  2021-01-23 07:00:00+00:00  gamma  True   0.0   0   7400.0  \n",
       "1  2021-07-01 15:00:00+00:00  alpha  True  35.0   1  15377.0  \n",
       "2  2021-07-29 16:00:00+00:00  gamma  True  20.0   1   6900.0  \n",
       "3  2021-06-09 18:00:00+00:00  alpha  True  15.0   1   9707.0  \n",
       "4  2021-08-23 06:55:00+00:00   beta  True  20.0   0   6500.0  "
      ]
     },
     "execution_count": 13,
     "metadata": {},
     "output_type": "execute_result"
    }
   ],
   "source": [
    "# Dropping columns which a re not required in data and update df\n",
    "df= df.drop(columns= ['f2','f3','f10'], axis=1)\n",
    "df.head()"
   ]
  },
  {
   "cell_type": "code",
   "execution_count": 14,
   "metadata": {},
   "outputs": [],
   "source": [
    "# now we will convert time into seconds \n",
    "# 1. time left for departure when purchasing ticket( )\n",
    "# 2. total flight time"
   ]
  },
  {
   "cell_type": "code",
   "execution_count": 15,
   "metadata": {},
   "outputs": [
    {
     "name": "stdout",
     "output_type": "stream",
     "text": [
      "<class 'pandas.core.frame.DataFrame'>\n",
      "RangeIndex: 5000 entries, 0 to 4999\n",
      "Data columns (total 8 columns):\n",
      " #   Column  Non-Null Count  Dtype  \n",
      "---  ------  --------------  -----  \n",
      " 0   f1      5000 non-null   object \n",
      " 1   f4      5000 non-null   object \n",
      " 2   f5      5000 non-null   object \n",
      " 3   f6      5000 non-null   object \n",
      " 4   f7      5000 non-null   bool   \n",
      " 5   f8      5000 non-null   float64\n",
      " 6   f9      5000 non-null   int64  \n",
      " 7   target  5000 non-null   float64\n",
      "dtypes: bool(1), float64(2), int64(1), object(4)\n",
      "memory usage: 278.4+ KB\n"
     ]
    }
   ],
   "source": [
    "# first we need to check catagories\n",
    "df.info()"
   ]
  },
  {
   "cell_type": "code",
   "execution_count": 16,
   "metadata": {},
   "outputs": [
    {
     "name": "stdout",
     "output_type": "stream",
     "text": [
      "<class 'pandas.core.frame.DataFrame'>\n",
      "RangeIndex: 5000 entries, 0 to 4999\n",
      "Data columns (total 8 columns):\n",
      " #   Column  Non-Null Count  Dtype              \n",
      "---  ------  --------------  -----              \n",
      " 0   f1      5000 non-null   datetime64[ns, UTC]\n",
      " 1   f4      5000 non-null   datetime64[ns, UTC]\n",
      " 2   f5      5000 non-null   datetime64[ns, UTC]\n",
      " 3   f6      5000 non-null   object             \n",
      " 4   f7      5000 non-null   bool               \n",
      " 5   f8      5000 non-null   float64            \n",
      " 6   f9      5000 non-null   int64              \n",
      " 7   target  5000 non-null   float64            \n",
      "dtypes: bool(1), datetime64[ns, UTC](3), float64(2), int64(1), object(1)\n",
      "memory usage: 278.4+ KB\n"
     ]
    }
   ],
   "source": [
    "# type casting\n",
    "\n",
    "df['f1']= pd.to_datetime(df['f1'])\n",
    "df['f4']= pd.to_datetime(df['f4'])\n",
    "df['f5']= pd.to_datetime(df['f5'])\n",
    "df.info()"
   ]
  },
  {
   "cell_type": "code",
   "execution_count": 17,
   "metadata": {},
   "outputs": [],
   "source": [
    "# now subtracting times and converting into seconds before calculation\n",
    "\n",
    "df.insert(0, 'time_to_dep(s)', ((df['f4']-df['f1']).astype('timedelta64[s]')), True)\n",
    "df.insert(1, 'travel_time(s)', ((df['f5']-df['f4']).astype('timedelta64[s]')), True)"
   ]
  },
  {
   "cell_type": "code",
   "execution_count": 18,
   "metadata": {},
   "outputs": [],
   "source": [
    "# df['f6']= df['f6'].astype('category')"
   ]
  },
  {
   "cell_type": "code",
   "execution_count": 19,
   "metadata": {},
   "outputs": [
    {
     "name": "stdout",
     "output_type": "stream",
     "text": [
      "<class 'pandas.core.frame.DataFrame'>\n",
      "RangeIndex: 5000 entries, 0 to 4999\n",
      "Data columns (total 10 columns):\n",
      " #   Column          Non-Null Count  Dtype              \n",
      "---  ------          --------------  -----              \n",
      " 0   time_to_dep(s)  5000 non-null   float64            \n",
      " 1   travel_time(s)  5000 non-null   float64            \n",
      " 2   f1              5000 non-null   datetime64[ns, UTC]\n",
      " 3   f4              5000 non-null   datetime64[ns, UTC]\n",
      " 4   f5              5000 non-null   datetime64[ns, UTC]\n",
      " 5   f6              5000 non-null   object             \n",
      " 6   f7              5000 non-null   bool               \n",
      " 7   f8              5000 non-null   float64            \n",
      " 8   f9              5000 non-null   int64              \n",
      " 9   target          5000 non-null   float64            \n",
      "dtypes: bool(1), datetime64[ns, UTC](3), float64(4), int64(1), object(1)\n",
      "memory usage: 356.6+ KB\n"
     ]
    }
   ],
   "source": [
    "df.info()"
   ]
  },
  {
   "cell_type": "code",
   "execution_count": 20,
   "metadata": {},
   "outputs": [
    {
     "data": {
      "text/html": [
       "<div>\n",
       "<style scoped>\n",
       "    .dataframe tbody tr th:only-of-type {\n",
       "        vertical-align: middle;\n",
       "    }\n",
       "\n",
       "    .dataframe tbody tr th {\n",
       "        vertical-align: top;\n",
       "    }\n",
       "\n",
       "    .dataframe thead th {\n",
       "        text-align: right;\n",
       "    }\n",
       "</style>\n",
       "<table border=\"1\" class=\"dataframe\">\n",
       "  <thead>\n",
       "    <tr style=\"text-align: right;\">\n",
       "      <th></th>\n",
       "      <th>time_to_dep(s)</th>\n",
       "      <th>travel_time(s)</th>\n",
       "      <th>f1</th>\n",
       "      <th>f4</th>\n",
       "      <th>f5</th>\n",
       "      <th>f6</th>\n",
       "      <th>f7</th>\n",
       "      <th>f8</th>\n",
       "      <th>f9</th>\n",
       "      <th>target</th>\n",
       "    </tr>\n",
       "  </thead>\n",
       "  <tbody>\n",
       "    <tr>\n",
       "      <th>0</th>\n",
       "      <td>1268192.0</td>\n",
       "      <td>7200.0</td>\n",
       "      <td>2021-01-08 12:43:27.828728+00:00</td>\n",
       "      <td>2021-01-23 05:00:00+00:00</td>\n",
       "      <td>2021-01-23 07:00:00+00:00</td>\n",
       "      <td>gamma</td>\n",
       "      <td>True</td>\n",
       "      <td>0.0</td>\n",
       "      <td>0</td>\n",
       "      <td>7400.0</td>\n",
       "    </tr>\n",
       "    <tr>\n",
       "      <th>1</th>\n",
       "      <td>29688.0</td>\n",
       "      <td>7200.0</td>\n",
       "      <td>2021-07-01 04:45:11.397541+00:00</td>\n",
       "      <td>2021-07-01 13:00:00+00:00</td>\n",
       "      <td>2021-07-01 15:00:00+00:00</td>\n",
       "      <td>alpha</td>\n",
       "      <td>True</td>\n",
       "      <td>35.0</td>\n",
       "      <td>1</td>\n",
       "      <td>15377.0</td>\n",
       "    </tr>\n",
       "    <tr>\n",
       "      <th>2</th>\n",
       "      <td>3033072.0</td>\n",
       "      <td>7200.0</td>\n",
       "      <td>2021-06-24 11:28:47.565115+00:00</td>\n",
       "      <td>2021-07-29 14:00:00+00:00</td>\n",
       "      <td>2021-07-29 16:00:00+00:00</td>\n",
       "      <td>gamma</td>\n",
       "      <td>True</td>\n",
       "      <td>20.0</td>\n",
       "      <td>1</td>\n",
       "      <td>6900.0</td>\n",
       "    </tr>\n",
       "    <tr>\n",
       "      <th>3</th>\n",
       "      <td>363011.0</td>\n",
       "      <td>7200.0</td>\n",
       "      <td>2021-06-05 11:09:48.655927+00:00</td>\n",
       "      <td>2021-06-09 16:00:00+00:00</td>\n",
       "      <td>2021-06-09 18:00:00+00:00</td>\n",
       "      <td>alpha</td>\n",
       "      <td>True</td>\n",
       "      <td>15.0</td>\n",
       "      <td>1</td>\n",
       "      <td>9707.0</td>\n",
       "    </tr>\n",
       "    <tr>\n",
       "      <th>4</th>\n",
       "      <td>2142368.0</td>\n",
       "      <td>6900.0</td>\n",
       "      <td>2021-07-29 09:53:51.065306+00:00</td>\n",
       "      <td>2021-08-23 05:00:00+00:00</td>\n",
       "      <td>2021-08-23 06:55:00+00:00</td>\n",
       "      <td>beta</td>\n",
       "      <td>True</td>\n",
       "      <td>20.0</td>\n",
       "      <td>0</td>\n",
       "      <td>6500.0</td>\n",
       "    </tr>\n",
       "  </tbody>\n",
       "</table>\n",
       "</div>"
      ],
      "text/plain": [
       "   time_to_dep(s)  travel_time(s)                               f1  \\\n",
       "0       1268192.0          7200.0 2021-01-08 12:43:27.828728+00:00   \n",
       "1         29688.0          7200.0 2021-07-01 04:45:11.397541+00:00   \n",
       "2       3033072.0          7200.0 2021-06-24 11:28:47.565115+00:00   \n",
       "3        363011.0          7200.0 2021-06-05 11:09:48.655927+00:00   \n",
       "4       2142368.0          6900.0 2021-07-29 09:53:51.065306+00:00   \n",
       "\n",
       "                         f4                        f5     f6    f7    f8  f9  \\\n",
       "0 2021-01-23 05:00:00+00:00 2021-01-23 07:00:00+00:00  gamma  True   0.0   0   \n",
       "1 2021-07-01 13:00:00+00:00 2021-07-01 15:00:00+00:00  alpha  True  35.0   1   \n",
       "2 2021-07-29 14:00:00+00:00 2021-07-29 16:00:00+00:00  gamma  True  20.0   1   \n",
       "3 2021-06-09 16:00:00+00:00 2021-06-09 18:00:00+00:00  alpha  True  15.0   1   \n",
       "4 2021-08-23 05:00:00+00:00 2021-08-23 06:55:00+00:00   beta  True  20.0   0   \n",
       "\n",
       "    target  \n",
       "0   7400.0  \n",
       "1  15377.0  \n",
       "2   6900.0  \n",
       "3   9707.0  \n",
       "4   6500.0  "
      ]
     },
     "execution_count": 20,
     "metadata": {},
     "output_type": "execute_result"
    }
   ],
   "source": [
    "df.head()"
   ]
  },
  {
   "cell_type": "code",
   "execution_count": 21,
   "metadata": {},
   "outputs": [
    {
     "data": {
      "text/plain": [
       "time_to_dep(s)    0\n",
       "travel_time(s)    0\n",
       "f1                0\n",
       "f4                0\n",
       "f5                0\n",
       "f6                0\n",
       "f7                0\n",
       "f8                0\n",
       "f9                0\n",
       "target            0\n",
       "dtype: int64"
      ]
     },
     "execution_count": 21,
     "metadata": {},
     "output_type": "execute_result"
    }
   ],
   "source": [
    "df.isnull().sum()"
   ]
  },
  {
   "cell_type": "code",
   "execution_count": 22,
   "metadata": {},
   "outputs": [],
   "source": [
    "# seperating catagorical columns and numerical columns into varibales\n",
    "\n",
    "cat_cols= ['f6','f7','f8','f9']\n",
    "num_cols= ['time_to_dep(s)', 'travel_time(s)']"
   ]
  },
  {
   "cell_type": "code",
   "execution_count": 23,
   "metadata": {},
   "outputs": [
    {
     "name": "stderr",
     "output_type": "stream",
     "text": [
      "c:\\Users\\hp\\anaconda3\\lib\\site-packages\\seaborn\\_decorators.py:36: FutureWarning: Pass the following variable as a keyword arg: x. From version 0.12, the only valid positional argument will be `data`, and passing other arguments without an explicit keyword will result in an error or misinterpretation.\n",
      "  warnings.warn(\n",
      "c:\\Users\\hp\\anaconda3\\lib\\site-packages\\seaborn\\_decorators.py:36: FutureWarning: Pass the following variable as a keyword arg: x. From version 0.12, the only valid positional argument will be `data`, and passing other arguments without an explicit keyword will result in an error or misinterpretation.\n",
      "  warnings.warn(\n",
      "c:\\Users\\hp\\anaconda3\\lib\\site-packages\\seaborn\\_decorators.py:36: FutureWarning: Pass the following variable as a keyword arg: x. From version 0.12, the only valid positional argument will be `data`, and passing other arguments without an explicit keyword will result in an error or misinterpretation.\n",
      "  warnings.warn(\n",
      "c:\\Users\\hp\\anaconda3\\lib\\site-packages\\seaborn\\_decorators.py:36: FutureWarning: Pass the following variable as a keyword arg: x. From version 0.12, the only valid positional argument will be `data`, and passing other arguments without an explicit keyword will result in an error or misinterpretation.\n",
      "  warnings.warn(\n"
     ]
    },
    {
     "data": {
      "image/png": "[encoded data removed]",
      "text/plain": [
       "<Figure size 720x2160 with 4 Axes>"
      ]
     },
     "metadata": {
      "needs_background": "light"
     },
     "output_type": "display_data"
    }
   ],
   "source": [
    "# now plotting categorical count plot\n",
    "c=1\n",
    "plt.figure(figsize=(10,30))\n",
    "for i in cat_cols:\n",
    "    plt.subplot(6,2,c)\n",
    "    sns.countplot(df[i])\n",
    "    c=c+1\n",
    "plt.show()\n",
    "# why is it not working?\n",
    "# worked on previous version or said i ran on conda env it worked."
   ]
  },
  {
   "cell_type": "code",
   "execution_count": 24,
   "metadata": {},
   "outputs": [
    {
     "name": "stderr",
     "output_type": "stream",
     "text": [
      "c:\\Users\\hp\\anaconda3\\lib\\site-packages\\seaborn\\_decorators.py:36: FutureWarning: Pass the following variable as a keyword arg: x. From version 0.12, the only valid positional argument will be `data`, and passing other arguments without an explicit keyword will result in an error or misinterpretation.\n",
      "  warnings.warn(\n",
      "c:\\Users\\hp\\anaconda3\\lib\\site-packages\\seaborn\\_decorators.py:36: FutureWarning: Pass the following variable as a keyword arg: x. From version 0.12, the only valid positional argument will be `data`, and passing other arguments without an explicit keyword will result in an error or misinterpretation.\n",
      "  warnings.warn(\n",
      "c:\\Users\\hp\\anaconda3\\lib\\site-packages\\seaborn\\_decorators.py:36: FutureWarning: Pass the following variable as a keyword arg: x. From version 0.12, the only valid positional argument will be `data`, and passing other arguments without an explicit keyword will result in an error or misinterpretation.\n",
      "  warnings.warn(\n",
      "c:\\Users\\hp\\anaconda3\\lib\\site-packages\\seaborn\\_decorators.py:36: FutureWarning: Pass the following variable as a keyword arg: x. From version 0.12, the only valid positional argument will be `data`, and passing other arguments without an explicit keyword will result in an error or misinterpretation.\n",
      "  warnings.warn(\n"
     ]
    },
    {
     "data": {
      "image/png": "[encoded data removed]",
      "text/plain": [
       "<Figure size 720x2160 with 4 Axes>"
      ]
     },
     "metadata": {
      "needs_background": "light"
     },
     "output_type": "display_data"
    }
   ],
   "source": [
    "c=1\n",
    "plt.figure(figsize=(10,30))\n",
    "for i in cat_cols:\n",
    "    plt.subplot(6,3,c)\n",
    "    sns.countplot(df[i])\n",
    "    plt.xticks(rotation=90)\n",
    "    plt.tight_layout(pad=3.0)\n",
    "    c=c+1\n",
    "plt.show()\n",
    "# it converts lables on x vertical"
   ]
  },
  {
   "cell_type": "code",
   "execution_count": 25,
   "metadata": {},
   "outputs": [
    {
     "name": "stderr",
     "output_type": "stream",
     "text": [
      "c:\\Users\\hp\\anaconda3\\lib\\site-packages\\seaborn\\distributions.py:2619: FutureWarning: `distplot` is a deprecated function and will be removed in a future version. Please adapt your code to use either `displot` (a figure-level function with similar flexibility) or `histplot` (an axes-level function for histograms).\n",
      "  warnings.warn(msg, FutureWarning)\n",
      "c:\\Users\\hp\\anaconda3\\lib\\site-packages\\seaborn\\distributions.py:2619: FutureWarning: `distplot` is a deprecated function and will be removed in a future version. Please adapt your code to use either `displot` (a figure-level function with similar flexibility) or `histplot` (an axes-level function for histograms).\n",
      "  warnings.warn(msg, FutureWarning)\n"
     ]
    },
    {
     "data": {
      "image/png": "[encoded data removed]",
      "text/plain": [
       "<Figure size 720x2160 with 2 Axes>"
      ]
     },
     "metadata": {
      "needs_background": "light"
     },
     "output_type": "display_data"
    }
   ],
   "source": [
    "# now plotting numerical coluns\n",
    "c=1\n",
    "plt.figure(figsize=(10,30))\n",
    "for i in num_cols:\n",
    "    plt.subplot(6,2,c)\n",
    "    sns.distplot(df[i])\n",
    "    c=c+1\n",
    "plt.show()"
   ]
  },
  {
   "attachments": {},
   "cell_type": "markdown",
   "metadata": {},
   "source": [
    "**now check whether data is normal or not**"
   ]
  },
  {
   "cell_type": "code",
   "execution_count": 26,
   "metadata": {},
   "outputs": [
    {
     "name": "stderr",
     "output_type": "stream",
     "text": [
      "c:\\Users\\hp\\anaconda3\\lib\\site-packages\\seaborn\\distributions.py:2619: FutureWarning: `distplot` is a deprecated function and will be removed in a future version. Please adapt your code to use either `displot` (a figure-level function with similar flexibility) or `histplot` (an axes-level function for histograms).\n",
      "  warnings.warn(msg, FutureWarning)\n"
     ]
    },
    {
     "data": {
      "text/plain": [
       "<AxesSubplot:xlabel='target', ylabel='Density'>"
      ]
     },
     "execution_count": 26,
     "metadata": {},
     "output_type": "execute_result"
    },
    {
     "data": {
      "image/png": "[encoded data removed]",
      "text/plain": [
       "<Figure size 432x288 with 1 Axes>"
      ]
     },
     "metadata": {
      "needs_background": "light"
     },
     "output_type": "display_data"
    }
   ],
   "source": [
    "# now plotting target\n",
    "\n",
    "sns.distplot(df.target)"
   ]
  },
  {
   "cell_type": "code",
   "execution_count": 27,
   "metadata": {},
   "outputs": [
    {
     "name": "stderr",
     "output_type": "stream",
     "text": [
      "c:\\Users\\hp\\anaconda3\\lib\\site-packages\\seaborn\\_decorators.py:36: FutureWarning: Pass the following variable as a keyword arg: x. From version 0.12, the only valid positional argument will be `data`, and passing other arguments without an explicit keyword will result in an error or misinterpretation.\n",
      "  warnings.warn(\n"
     ]
    },
    {
     "data": {
      "text/plain": [
       "<AxesSubplot:xlabel='target'>"
      ]
     },
     "execution_count": 27,
     "metadata": {},
     "output_type": "execute_result"
    },
    {
     "data": {
      "image/png": "[encoded data removed]",
      "text/plain": [
       "<Figure size 432x288 with 1 Axes>"
      ]
     },
     "metadata": {
      "needs_background": "light"
     },
     "output_type": "display_data"
    }
   ],
   "source": [
    "sns.boxplot(df.target)"
   ]
  },
  {
   "cell_type": "code",
   "execution_count": 28,
   "metadata": {},
   "outputs": [],
   "source": [
    "# task: outliers removal but after checking also skewness and kurtosis\n"
   ]
  },
  {
   "cell_type": "code",
   "execution_count": 29,
   "metadata": {},
   "outputs": [
    {
     "name": "stderr",
     "output_type": "stream",
     "text": [
      "C:\\Users\\hp\\AppData\\Local\\Temp\\ipykernel_1508\\2954304398.py:3: FutureWarning: Dropping of nuisance columns in DataFrame reductions (with 'numeric_only=None') is deprecated; in a future version this will raise TypeError.  Select only valid columns before calling the reduction.\n",
      "  df.skew()\n"
     ]
    },
    {
     "data": {
      "text/plain": [
       "time_to_dep(s)     3.703644\n",
       "travel_time(s)     1.319374\n",
       "f7               -11.660949\n",
       "f8                 0.418300\n",
       "f9                 0.027547\n",
       "target             2.056345\n",
       "dtype: float64"
      ]
     },
     "execution_count": 29,
     "metadata": {},
     "output_type": "execute_result"
    }
   ],
   "source": [
    "# now check skewness and kurtosis\n",
    "\n",
    "df.skew()"
   ]
  },
  {
   "cell_type": "code",
   "execution_count": 30,
   "metadata": {},
   "outputs": [
    {
     "name": "stderr",
     "output_type": "stream",
     "text": [
      "C:\\Users\\hp\\AppData\\Local\\Temp\\ipykernel_1508\\615572439.py:1: FutureWarning: Dropping of nuisance columns in DataFrame reductions (with 'numeric_only=None') is deprecated; in a future version this will raise TypeError.  Select only valid columns before calling the reduction.\n",
      "  df.kurtosis()\n"
     ]
    },
    {
     "data": {
      "text/plain": [
       "time_to_dep(s)     20.796049\n",
       "travel_time(s)      5.504109\n",
       "f7                134.031335\n",
       "f8                  0.046374\n",
       "f9                 -0.310364\n",
       "target              6.344666\n",
       "dtype: float64"
      ]
     },
     "execution_count": 30,
     "metadata": {},
     "output_type": "execute_result"
    }
   ],
   "source": [
    "df.kurtosis()"
   ]
  },
  {
   "cell_type": "code",
   "execution_count": 31,
   "metadata": {},
   "outputs": [
    {
     "data": {
      "text/html": [
       "<div>\n",
       "<style scoped>\n",
       "    .dataframe tbody tr th:only-of-type {\n",
       "        vertical-align: middle;\n",
       "    }\n",
       "\n",
       "    .dataframe tbody tr th {\n",
       "        vertical-align: top;\n",
       "    }\n",
       "\n",
       "    .dataframe thead th {\n",
       "        text-align: right;\n",
       "    }\n",
       "</style>\n",
       "<table border=\"1\" class=\"dataframe\">\n",
       "  <thead>\n",
       "    <tr style=\"text-align: right;\">\n",
       "      <th></th>\n",
       "      <th>time_to_dep(s)</th>\n",
       "      <th>travel_time(s)</th>\n",
       "      <th>f1</th>\n",
       "      <th>f4</th>\n",
       "      <th>f5</th>\n",
       "      <th>f6</th>\n",
       "      <th>f7</th>\n",
       "      <th>f8</th>\n",
       "      <th>f9</th>\n",
       "      <th>target</th>\n",
       "    </tr>\n",
       "  </thead>\n",
       "  <tbody>\n",
       "    <tr>\n",
       "      <th>0</th>\n",
       "      <td>1268192.0</td>\n",
       "      <td>7200.0</td>\n",
       "      <td>2021-01-08 12:43:27.828728+00:00</td>\n",
       "      <td>2021-01-23 05:00:00+00:00</td>\n",
       "      <td>2021-01-23 07:00:00+00:00</td>\n",
       "      <td>gamma</td>\n",
       "      <td>True</td>\n",
       "      <td>0.0</td>\n",
       "      <td>0</td>\n",
       "      <td>7400.0</td>\n",
       "    </tr>\n",
       "    <tr>\n",
       "      <th>1</th>\n",
       "      <td>29688.0</td>\n",
       "      <td>7200.0</td>\n",
       "      <td>2021-07-01 04:45:11.397541+00:00</td>\n",
       "      <td>2021-07-01 13:00:00+00:00</td>\n",
       "      <td>2021-07-01 15:00:00+00:00</td>\n",
       "      <td>alpha</td>\n",
       "      <td>True</td>\n",
       "      <td>35.0</td>\n",
       "      <td>1</td>\n",
       "      <td>15377.0</td>\n",
       "    </tr>\n",
       "    <tr>\n",
       "      <th>2</th>\n",
       "      <td>3033072.0</td>\n",
       "      <td>7200.0</td>\n",
       "      <td>2021-06-24 11:28:47.565115+00:00</td>\n",
       "      <td>2021-07-29 14:00:00+00:00</td>\n",
       "      <td>2021-07-29 16:00:00+00:00</td>\n",
       "      <td>gamma</td>\n",
       "      <td>True</td>\n",
       "      <td>20.0</td>\n",
       "      <td>1</td>\n",
       "      <td>6900.0</td>\n",
       "    </tr>\n",
       "    <tr>\n",
       "      <th>3</th>\n",
       "      <td>363011.0</td>\n",
       "      <td>7200.0</td>\n",
       "      <td>2021-06-05 11:09:48.655927+00:00</td>\n",
       "      <td>2021-06-09 16:00:00+00:00</td>\n",
       "      <td>2021-06-09 18:00:00+00:00</td>\n",
       "      <td>alpha</td>\n",
       "      <td>True</td>\n",
       "      <td>15.0</td>\n",
       "      <td>1</td>\n",
       "      <td>9707.0</td>\n",
       "    </tr>\n",
       "    <tr>\n",
       "      <th>4</th>\n",
       "      <td>2142368.0</td>\n",
       "      <td>6900.0</td>\n",
       "      <td>2021-07-29 09:53:51.065306+00:00</td>\n",
       "      <td>2021-08-23 05:00:00+00:00</td>\n",
       "      <td>2021-08-23 06:55:00+00:00</td>\n",
       "      <td>beta</td>\n",
       "      <td>True</td>\n",
       "      <td>20.0</td>\n",
       "      <td>0</td>\n",
       "      <td>6500.0</td>\n",
       "    </tr>\n",
       "  </tbody>\n",
       "</table>\n",
       "</div>"
      ],
      "text/plain": [
       "   time_to_dep(s)  travel_time(s)                               f1  \\\n",
       "0       1268192.0          7200.0 2021-01-08 12:43:27.828728+00:00   \n",
       "1         29688.0          7200.0 2021-07-01 04:45:11.397541+00:00   \n",
       "2       3033072.0          7200.0 2021-06-24 11:28:47.565115+00:00   \n",
       "3        363011.0          7200.0 2021-06-05 11:09:48.655927+00:00   \n",
       "4       2142368.0          6900.0 2021-07-29 09:53:51.065306+00:00   \n",
       "\n",
       "                         f4                        f5     f6    f7    f8  f9  \\\n",
       "0 2021-01-23 05:00:00+00:00 2021-01-23 07:00:00+00:00  gamma  True   0.0   0   \n",
       "1 2021-07-01 13:00:00+00:00 2021-07-01 15:00:00+00:00  alpha  True  35.0   1   \n",
       "2 2021-07-29 14:00:00+00:00 2021-07-29 16:00:00+00:00  gamma  True  20.0   1   \n",
       "3 2021-06-09 16:00:00+00:00 2021-06-09 18:00:00+00:00  alpha  True  15.0   1   \n",
       "4 2021-08-23 05:00:00+00:00 2021-08-23 06:55:00+00:00   beta  True  20.0   0   \n",
       "\n",
       "    target  \n",
       "0   7400.0  \n",
       "1  15377.0  \n",
       "2   6900.0  \n",
       "3   9707.0  \n",
       "4   6500.0  "
      ]
     },
     "execution_count": 31,
     "metadata": {},
     "output_type": "execute_result"
    }
   ],
   "source": [
    "# encoding of variables\n",
    "\n",
    "df.head()"
   ]
  },
  {
   "cell_type": "code",
   "execution_count": 32,
   "metadata": {},
   "outputs": [],
   "source": [
    "df= df.drop(columns= ['f1', 'f4','f5'], axis=1)"
   ]
  },
  {
   "cell_type": "code",
   "execution_count": 33,
   "metadata": {},
   "outputs": [
    {
     "data": {
      "text/html": [
       "<div>\n",
       "<style scoped>\n",
       "    .dataframe tbody tr th:only-of-type {\n",
       "        vertical-align: middle;\n",
       "    }\n",
       "\n",
       "    .dataframe tbody tr th {\n",
       "        vertical-align: top;\n",
       "    }\n",
       "\n",
       "    .dataframe thead th {\n",
       "        text-align: right;\n",
       "    }\n",
       "</style>\n",
       "<table border=\"1\" class=\"dataframe\">\n",
       "  <thead>\n",
       "    <tr style=\"text-align: right;\">\n",
       "      <th></th>\n",
       "      <th>time_to_dep(s)</th>\n",
       "      <th>travel_time(s)</th>\n",
       "      <th>f6</th>\n",
       "      <th>f7</th>\n",
       "      <th>f8</th>\n",
       "      <th>f9</th>\n",
       "      <th>target</th>\n",
       "    </tr>\n",
       "  </thead>\n",
       "  <tbody>\n",
       "    <tr>\n",
       "      <th>0</th>\n",
       "      <td>1268192.0</td>\n",
       "      <td>7200.0</td>\n",
       "      <td>gamma</td>\n",
       "      <td>True</td>\n",
       "      <td>0.0</td>\n",
       "      <td>0</td>\n",
       "      <td>7400.0</td>\n",
       "    </tr>\n",
       "    <tr>\n",
       "      <th>1</th>\n",
       "      <td>29688.0</td>\n",
       "      <td>7200.0</td>\n",
       "      <td>alpha</td>\n",
       "      <td>True</td>\n",
       "      <td>35.0</td>\n",
       "      <td>1</td>\n",
       "      <td>15377.0</td>\n",
       "    </tr>\n",
       "    <tr>\n",
       "      <th>2</th>\n",
       "      <td>3033072.0</td>\n",
       "      <td>7200.0</td>\n",
       "      <td>gamma</td>\n",
       "      <td>True</td>\n",
       "      <td>20.0</td>\n",
       "      <td>1</td>\n",
       "      <td>6900.0</td>\n",
       "    </tr>\n",
       "    <tr>\n",
       "      <th>3</th>\n",
       "      <td>363011.0</td>\n",
       "      <td>7200.0</td>\n",
       "      <td>alpha</td>\n",
       "      <td>True</td>\n",
       "      <td>15.0</td>\n",
       "      <td>1</td>\n",
       "      <td>9707.0</td>\n",
       "    </tr>\n",
       "    <tr>\n",
       "      <th>4</th>\n",
       "      <td>2142368.0</td>\n",
       "      <td>6900.0</td>\n",
       "      <td>beta</td>\n",
       "      <td>True</td>\n",
       "      <td>20.0</td>\n",
       "      <td>0</td>\n",
       "      <td>6500.0</td>\n",
       "    </tr>\n",
       "  </tbody>\n",
       "</table>\n",
       "</div>"
      ],
      "text/plain": [
       "   time_to_dep(s)  travel_time(s)     f6    f7    f8  f9   target\n",
       "0       1268192.0          7200.0  gamma  True   0.0   0   7400.0\n",
       "1         29688.0          7200.0  alpha  True  35.0   1  15377.0\n",
       "2       3033072.0          7200.0  gamma  True  20.0   1   6900.0\n",
       "3        363011.0          7200.0  alpha  True  15.0   1   9707.0\n",
       "4       2142368.0          6900.0   beta  True  20.0   0   6500.0"
      ]
     },
     "execution_count": 33,
     "metadata": {},
     "output_type": "execute_result"
    }
   ],
   "source": [
    "df.head()"
   ]
  },
  {
   "cell_type": "code",
   "execution_count": 34,
   "metadata": {},
   "outputs": [],
   "source": [
    "# encoding(converting categories into 0,1,2) etc\n",
    "from sklearn.preprocessing import LabelEncoder\n",
    "le=LabelEncoder()"
   ]
  },
  {
   "cell_type": "code",
   "execution_count": 35,
   "metadata": {},
   "outputs": [
    {
     "data": {
      "text/html": [
       "<div>\n",
       "<style scoped>\n",
       "    .dataframe tbody tr th:only-of-type {\n",
       "        vertical-align: middle;\n",
       "    }\n",
       "\n",
       "    .dataframe tbody tr th {\n",
       "        vertical-align: top;\n",
       "    }\n",
       "\n",
       "    .dataframe thead th {\n",
       "        text-align: right;\n",
       "    }\n",
       "</style>\n",
       "<table border=\"1\" class=\"dataframe\">\n",
       "  <thead>\n",
       "    <tr style=\"text-align: right;\">\n",
       "      <th></th>\n",
       "      <th>time_to_dep(s)</th>\n",
       "      <th>travel_time(s)</th>\n",
       "      <th>f6</th>\n",
       "      <th>f7</th>\n",
       "      <th>f8</th>\n",
       "      <th>f9</th>\n",
       "      <th>target</th>\n",
       "    </tr>\n",
       "  </thead>\n",
       "  <tbody>\n",
       "    <tr>\n",
       "      <th>0</th>\n",
       "      <td>1268192.0</td>\n",
       "      <td>7200.0</td>\n",
       "      <td>2</td>\n",
       "      <td>1</td>\n",
       "      <td>0</td>\n",
       "      <td>0</td>\n",
       "      <td>7400.0</td>\n",
       "    </tr>\n",
       "    <tr>\n",
       "      <th>1</th>\n",
       "      <td>29688.0</td>\n",
       "      <td>7200.0</td>\n",
       "      <td>0</td>\n",
       "      <td>1</td>\n",
       "      <td>4</td>\n",
       "      <td>1</td>\n",
       "      <td>15377.0</td>\n",
       "    </tr>\n",
       "    <tr>\n",
       "      <th>2</th>\n",
       "      <td>3033072.0</td>\n",
       "      <td>7200.0</td>\n",
       "      <td>2</td>\n",
       "      <td>1</td>\n",
       "      <td>2</td>\n",
       "      <td>1</td>\n",
       "      <td>6900.0</td>\n",
       "    </tr>\n",
       "    <tr>\n",
       "      <th>3</th>\n",
       "      <td>363011.0</td>\n",
       "      <td>7200.0</td>\n",
       "      <td>0</td>\n",
       "      <td>1</td>\n",
       "      <td>1</td>\n",
       "      <td>1</td>\n",
       "      <td>9707.0</td>\n",
       "    </tr>\n",
       "    <tr>\n",
       "      <th>4</th>\n",
       "      <td>2142368.0</td>\n",
       "      <td>6900.0</td>\n",
       "      <td>1</td>\n",
       "      <td>1</td>\n",
       "      <td>2</td>\n",
       "      <td>0</td>\n",
       "      <td>6500.0</td>\n",
       "    </tr>\n",
       "    <tr>\n",
       "      <th>5</th>\n",
       "      <td>256252.0</td>\n",
       "      <td>7200.0</td>\n",
       "      <td>2</td>\n",
       "      <td>1</td>\n",
       "      <td>3</td>\n",
       "      <td>1</td>\n",
       "      <td>9655.0</td>\n",
       "    </tr>\n",
       "    <tr>\n",
       "      <th>6</th>\n",
       "      <td>843009.0</td>\n",
       "      <td>6900.0</td>\n",
       "      <td>1</td>\n",
       "      <td>1</td>\n",
       "      <td>2</td>\n",
       "      <td>0</td>\n",
       "      <td>7300.0</td>\n",
       "    </tr>\n",
       "    <tr>\n",
       "      <th>7</th>\n",
       "      <td>5715561.0</td>\n",
       "      <td>7200.0</td>\n",
       "      <td>2</td>\n",
       "      <td>1</td>\n",
       "      <td>2</td>\n",
       "      <td>1</td>\n",
       "      <td>8650.0</td>\n",
       "    </tr>\n",
       "    <tr>\n",
       "      <th>8</th>\n",
       "      <td>422528.0</td>\n",
       "      <td>7200.0</td>\n",
       "      <td>0</td>\n",
       "      <td>1</td>\n",
       "      <td>1</td>\n",
       "      <td>1</td>\n",
       "      <td>12945.0</td>\n",
       "    </tr>\n",
       "    <tr>\n",
       "      <th>9</th>\n",
       "      <td>2906185.0</td>\n",
       "      <td>7200.0</td>\n",
       "      <td>0</td>\n",
       "      <td>1</td>\n",
       "      <td>1</td>\n",
       "      <td>1</td>\n",
       "      <td>9497.0</td>\n",
       "    </tr>\n",
       "  </tbody>\n",
       "</table>\n",
       "</div>"
      ],
      "text/plain": [
       "   time_to_dep(s)  travel_time(s)  f6  f7  f8  f9   target\n",
       "0       1268192.0          7200.0   2   1   0   0   7400.0\n",
       "1         29688.0          7200.0   0   1   4   1  15377.0\n",
       "2       3033072.0          7200.0   2   1   2   1   6900.0\n",
       "3        363011.0          7200.0   0   1   1   1   9707.0\n",
       "4       2142368.0          6900.0   1   1   2   0   6500.0\n",
       "5        256252.0          7200.0   2   1   3   1   9655.0\n",
       "6        843009.0          6900.0   1   1   2   0   7300.0\n",
       "7       5715561.0          7200.0   2   1   2   1   8650.0\n",
       "8        422528.0          7200.0   0   1   1   1  12945.0\n",
       "9       2906185.0          7200.0   0   1   1   1   9497.0"
      ]
     },
     "execution_count": 35,
     "metadata": {},
     "output_type": "execute_result"
    }
   ],
   "source": [
    "# apply label encoder\n",
    "\n",
    "df['f6']= le.fit_transform(df['f6'])\n",
    "df['f7']= le.fit_transform(df['f7'])\n",
    "df['f8']= le.fit_transform(df['f8'])\n",
    "df.head(10)"
   ]
  },
  {
   "cell_type": "code",
   "execution_count": 36,
   "metadata": {},
   "outputs": [
    {
     "data": {
      "text/html": [
       "<div>\n",
       "<style scoped>\n",
       "    .dataframe tbody tr th:only-of-type {\n",
       "        vertical-align: middle;\n",
       "    }\n",
       "\n",
       "    .dataframe tbody tr th {\n",
       "        vertical-align: top;\n",
       "    }\n",
       "\n",
       "    .dataframe thead th {\n",
       "        text-align: right;\n",
       "    }\n",
       "</style>\n",
       "<table border=\"1\" class=\"dataframe\">\n",
       "  <thead>\n",
       "    <tr style=\"text-align: right;\">\n",
       "      <th></th>\n",
       "      <th>time_to_dep(s)</th>\n",
       "      <th>travel_time(s)</th>\n",
       "      <th>f6</th>\n",
       "      <th>f7</th>\n",
       "      <th>f8</th>\n",
       "      <th>f9</th>\n",
       "      <th>target</th>\n",
       "    </tr>\n",
       "  </thead>\n",
       "  <tbody>\n",
       "    <tr>\n",
       "      <th>count</th>\n",
       "      <td>5.000000e+03</td>\n",
       "      <td>5000.000000</td>\n",
       "      <td>5000.000000</td>\n",
       "      <td>5000.000000</td>\n",
       "      <td>5000.000000</td>\n",
       "      <td>5000.000000</td>\n",
       "      <td>5000.000000</td>\n",
       "    </tr>\n",
       "    <tr>\n",
       "      <th>mean</th>\n",
       "      <td>1.349212e+06</td>\n",
       "      <td>7159.836000</td>\n",
       "      <td>0.953400</td>\n",
       "      <td>0.992800</td>\n",
       "      <td>2.292000</td>\n",
       "      <td>0.944600</td>\n",
       "      <td>10104.351800</td>\n",
       "    </tr>\n",
       "    <tr>\n",
       "      <th>std</th>\n",
       "      <td>1.679384e+06</td>\n",
       "      <td>169.613345</td>\n",
       "      <td>0.948371</td>\n",
       "      <td>0.084555</td>\n",
       "      <td>1.247817</td>\n",
       "      <td>0.607951</td>\n",
       "      <td>3359.936118</td>\n",
       "    </tr>\n",
       "    <tr>\n",
       "      <th>min</th>\n",
       "      <td>2.003000e+03</td>\n",
       "      <td>6900.000000</td>\n",
       "      <td>0.000000</td>\n",
       "      <td>0.000000</td>\n",
       "      <td>0.000000</td>\n",
       "      <td>0.000000</td>\n",
       "      <td>4990.000000</td>\n",
       "    </tr>\n",
       "    <tr>\n",
       "      <th>25%</th>\n",
       "      <td>3.606870e+05</td>\n",
       "      <td>7140.000000</td>\n",
       "      <td>0.000000</td>\n",
       "      <td>1.000000</td>\n",
       "      <td>2.000000</td>\n",
       "      <td>1.000000</td>\n",
       "      <td>7796.000000</td>\n",
       "    </tr>\n",
       "    <tr>\n",
       "      <th>50%</th>\n",
       "      <td>8.634945e+05</td>\n",
       "      <td>7200.000000</td>\n",
       "      <td>1.000000</td>\n",
       "      <td>1.000000</td>\n",
       "      <td>2.000000</td>\n",
       "      <td>1.000000</td>\n",
       "      <td>9403.000000</td>\n",
       "    </tr>\n",
       "    <tr>\n",
       "      <th>75%</th>\n",
       "      <td>1.698816e+06</td>\n",
       "      <td>7200.000000</td>\n",
       "      <td>2.000000</td>\n",
       "      <td>1.000000</td>\n",
       "      <td>3.000000</td>\n",
       "      <td>1.000000</td>\n",
       "      <td>11245.000000</td>\n",
       "    </tr>\n",
       "    <tr>\n",
       "      <th>max</th>\n",
       "      <td>1.916464e+07</td>\n",
       "      <td>7800.000000</td>\n",
       "      <td>3.000000</td>\n",
       "      <td>1.000000</td>\n",
       "      <td>6.000000</td>\n",
       "      <td>2.000000</td>\n",
       "      <td>33720.000000</td>\n",
       "    </tr>\n",
       "  </tbody>\n",
       "</table>\n",
       "</div>"
      ],
      "text/plain": [
       "       time_to_dep(s)  travel_time(s)           f6           f7           f8  \\\n",
       "count    5.000000e+03     5000.000000  5000.000000  5000.000000  5000.000000   \n",
       "mean     1.349212e+06     7159.836000     0.953400     0.992800     2.292000   \n",
       "std      1.679384e+06      169.613345     0.948371     0.084555     1.247817   \n",
       "min      2.003000e+03     6900.000000     0.000000     0.000000     0.000000   \n",
       "25%      3.606870e+05     7140.000000     0.000000     1.000000     2.000000   \n",
       "50%      8.634945e+05     7200.000000     1.000000     1.000000     2.000000   \n",
       "75%      1.698816e+06     7200.000000     2.000000     1.000000     3.000000   \n",
       "max      1.916464e+07     7800.000000     3.000000     1.000000     6.000000   \n",
       "\n",
       "                f9        target  \n",
       "count  5000.000000   5000.000000  \n",
       "mean      0.944600  10104.351800  \n",
       "std       0.607951   3359.936118  \n",
       "min       0.000000   4990.000000  \n",
       "25%       1.000000   7796.000000  \n",
       "50%       1.000000   9403.000000  \n",
       "75%       1.000000  11245.000000  \n",
       "max       2.000000  33720.000000  "
      ]
     },
     "execution_count": 36,
     "metadata": {},
     "output_type": "execute_result"
    }
   ],
   "source": [
    "# now some statistics\n",
    "df.describe()"
   ]
  },
  {
   "cell_type": "code",
   "execution_count": 37,
   "metadata": {},
   "outputs": [],
   "source": [
    "# now check if data needs to be normalize then do this proccessing\n",
    "\n",
    "from sklearn.preprocessing import StandardScaler\n",
    "ss=StandardScaler()\n",
    "# it only applies on numerical varibales."
   ]
  },
  {
   "cell_type": "code",
   "execution_count": 38,
   "metadata": {},
   "outputs": [],
   "source": [
    "# df['time_to_dep(s)']= ss.fit_transform(df['time_to_dep(s)'])\n",
    "# df['travel_time(s)']= ss.fit_transform(df['travel_time(s)'])\n",
    "# df['target']= ss.fit_transform(df['target'])"
   ]
  },
  {
   "cell_type": "code",
   "execution_count": 39,
   "metadata": {},
   "outputs": [
    {
     "data": {
      "text/plain": [
       "Index(['time_to_dep(s)', 'travel_time(s)', 'f6', 'f7', 'f8', 'f9', 'target'], dtype='object')"
      ]
     },
     "execution_count": 39,
     "metadata": {},
     "output_type": "execute_result"
    }
   ],
   "source": [
    "df.columns"
   ]
  },
  {
   "cell_type": "code",
   "execution_count": 40,
   "metadata": {},
   "outputs": [],
   "source": [
    "# now spplitting data into x and y\n",
    "x= df[['time_to_dep(s)', 'travel_time(s)', 'f6', 'f7', 'f8', 'f9']] # or only drop target from x, x= df.drop(['target], axis=1)\n",
    "y= df['target']"
   ]
  },
  {
   "attachments": {},
   "cell_type": "markdown",
   "metadata": {},
   "source": [
    "# ML Modeling"
   ]
  },
  {
   "cell_type": "code",
   "execution_count": 41,
   "metadata": {},
   "outputs": [],
   "source": [
    "# Now ML modeling\n",
    "# as numeric value so we use regression analysis\n"
   ]
  },
  {
   "cell_type": "code",
   "execution_count": 42,
   "metadata": {},
   "outputs": [],
   "source": [
    "from sklearn.linear_model import LinearRegression\n",
    "from sklearn.tree import DecisionTreeRegressor\n",
    "from sklearn.svm import SVR\n",
    "from sklearn.neighbors import KNeighborsRegressor\n",
    "from sklearn.model_selection import train_test_split\n",
    "from sklearn.metrics import r2_score, mean_absolute_error, mean_squared_error #these are metrices of regressor.\n",
    "# for classification: f1, precision score and recall score."
   ]
  },
  {
   "cell_type": "code",
   "execution_count": 47,
   "metadata": {},
   "outputs": [],
   "source": [
    "# root mean square erro\n",
    "\n",
    "# rmse= mean_squared_error(y_test, y_pred, squared=False)"
   ]
  },
  {
   "cell_type": "code",
   "execution_count": 44,
   "metadata": {},
   "outputs": [],
   "source": [
    "# converting to shorter form\n",
    "lr= LinearRegression()\n",
    "dt= DecisionTreeRegressor()\n",
    "svr=SVR()\n",
    "knr=KNeighborsRegressor()\n"
   ]
  },
  {
   "cell_type": "code",
   "execution_count": 45,
   "metadata": {},
   "outputs": [
    {
     "name": "stdout",
     "output_type": "stream",
     "text": [
      "LinearRegression()\n",
      "r2_score is:  0.08245769682272552\n",
      "SVR()\n",
      "r2_score is:  -0.06121290745272212\n"
     ]
    }
   ],
   "source": [
    "# Designing model loop and apply all models in same data and check accuracy, and bring that model with higher accuracy.\n",
    "# screen and print that model.\n",
    "\n",
    "x_train, x_test, y_train, y_test= train_test_split(x,y, test_size=0.2, random_state=42)\n",
    "\n",
    "for i in [lr,dt,svr,knr]: # read all models\n",
    "    i.fit(x_train,y_train) # fitting all models\n",
    "    pred= i.predict(x_test) # predicting\n",
    "    score= r2_score(y_test, pred) # test score\n",
    "    train_score= r2_score(y_train, i.predict(x_train)) # train score\n",
    "    if abs(train_score - score) <= 0.1:\n",
    "        print(i)\n",
    "        print(\"r2_score is: \", r2_score(y_test, pred))\n",
    "        "
   ]
  },
  {
   "attachments": {},
   "cell_type": "markdown",
   "metadata": {},
   "source": [
    "in below formula pls explain meaning of <= 0.1:\n",
    "\n",
    "for i in [lr,dt,svr,knr]: # read all models\n",
    "    i.fit(x_train,y_train) # fitting all models\n",
    "    pred= i.predict(x_test) # predicting\n",
    "    score= r2_score(y_test, pred) # test score\n",
    "    train_score= r2_score(x_train, i.predict(x_train)) # train score\n",
    "    if abs(train_score - score) <= 0.1:\n",
    "The if statement checks if the difference between train_score and score is less than or equal to 0.1. The abs function calculates the absolute value of the difference, which means the value of the difference without considering its sign (positive or negative).\n",
    "\n",
    "So, if the difference between the training score and test score is less than or equal to 0.1, this indicates that the model has a low variance and is not overfitting the training data. Overfitting occurs when a model is too complex and memorizes the training data, but cannot generalize well to new unseen data (the test data in this case).\n",
    "\n",
    "what happens if we increase value from 0.1?\n",
    "\n",
    "If we increase the value from 0.1, it will result in a larger difference between the training score and the test score, which indicates that the model may be overfitting to the training data. Overfitting occurs when a model is too complex and has learned the noise or random variations in the training data instead of generalizing to new unseen data. An increase in the difference between the training and test scores is an indication of overfitting and requires the model to be revised or a different model to be used."
   ]
  },
  {
   "cell_type": "code",
   "execution_count": 46,
   "metadata": {},
   "outputs": [
    {
     "name": "stdout",
     "output_type": "stream",
     "text": [
      "LinearRegression()\n",
      "r2_score is:  0.08245769682272552\n",
      "mean_absolute_error:  2175.6552919422875\n",
      "mean_squared_error:  9604880.48361756\n",
      "rmse:  3099.174161549744\n",
      "-----------------------------------------------\n",
      "SVR()\n",
      "r2_score is:  -0.06121290745272212\n",
      "mean_absolute_error:  2234.394635530172\n",
      "mean_squared_error:  11108831.830924733\n",
      "rmse:  3332.991423770054\n",
      "-----------------------------------------------\n"
     ]
    }
   ],
   "source": [
    "for i in [lr,dt,svr,knr]: # read all models\n",
    "    i.fit(x_train,y_train) # fitting all models\n",
    "    pred= i.predict(x_test) # predicting\n",
    "    score= r2_score(y_test, pred) # test score\n",
    "    train_score= r2_score(y_train, i.predict(x_train)) # train score\n",
    "    if abs(train_score - score) <= 0.1:\n",
    "        print(i)\n",
    "        print(\"r2_score is: \", r2_score(y_test, pred))\n",
    "        print('mean_absolute_error: ', mean_absolute_error(y_test, pred))\n",
    "        print('mean_squared_error: ', mean_squared_error(y_test, pred))\n",
    "        print('rmse: ', mean_squared_error(y_test, pred, squared = False))\n",
    "        print('-----------------------------------------------')\n"
   ]
  },
  {
   "cell_type": "code",
   "execution_count": 48,
   "metadata": {},
   "outputs": [],
   "source": [
    "df1= pd.read_csv('sastaticket_test.csv')"
   ]
  },
  {
   "cell_type": "code",
   "execution_count": 50,
   "metadata": {},
   "outputs": [],
   "source": [
    "# made a mistake, we wrangled data but test data read is not cleaned so we need to apply those steps on it too and then we can predict."
   ]
  },
  {
   "cell_type": "code",
   "execution_count": 51,
   "metadata": {},
   "outputs": [
    {
     "data": {
      "text/html": [
       "<div>\n",
       "<style scoped>\n",
       "    .dataframe tbody tr th:only-of-type {\n",
       "        vertical-align: middle;\n",
       "    }\n",
       "\n",
       "    .dataframe tbody tr th {\n",
       "        vertical-align: top;\n",
       "    }\n",
       "\n",
       "    .dataframe thead th {\n",
       "        text-align: right;\n",
       "    }\n",
       "</style>\n",
       "<table border=\"1\" class=\"dataframe\">\n",
       "  <thead>\n",
       "    <tr style=\"text-align: right;\">\n",
       "      <th></th>\n",
       "      <th>Unnamed: 0</th>\n",
       "      <th>f1</th>\n",
       "      <th>f2</th>\n",
       "      <th>f3</th>\n",
       "      <th>f4</th>\n",
       "      <th>f5</th>\n",
       "      <th>f6</th>\n",
       "      <th>f7</th>\n",
       "      <th>f8</th>\n",
       "      <th>f9</th>\n",
       "      <th>f10</th>\n",
       "    </tr>\n",
       "  </thead>\n",
       "  <tbody>\n",
       "    <tr>\n",
       "      <th>0</th>\n",
       "      <td>2694449</td>\n",
       "      <td>2021-09-16 12:20:01.578279+00:00</td>\n",
       "      <td>x</td>\n",
       "      <td>y</td>\n",
       "      <td>2021-10-03 04:40:00+00:00</td>\n",
       "      <td>2021-10-03 06:40:00+00:00</td>\n",
       "      <td>omega</td>\n",
       "      <td>True</td>\n",
       "      <td>20.0</td>\n",
       "      <td>1</td>\n",
       "      <td>d-1</td>\n",
       "    </tr>\n",
       "    <tr>\n",
       "      <th>1</th>\n",
       "      <td>3088556</td>\n",
       "      <td>2021-09-18 20:13:13.612131+00:00</td>\n",
       "      <td>x</td>\n",
       "      <td>y</td>\n",
       "      <td>2021-09-23 17:05:00+00:00</td>\n",
       "      <td>2021-09-23 19:05:00+00:00</td>\n",
       "      <td>omega</td>\n",
       "      <td>True</td>\n",
       "      <td>20.0</td>\n",
       "      <td>1</td>\n",
       "      <td>d-5</td>\n",
       "    </tr>\n",
       "    <tr>\n",
       "      <th>2</th>\n",
       "      <td>3914899</td>\n",
       "      <td>2021-09-24 17:53:41.424953+00:00</td>\n",
       "      <td>x</td>\n",
       "      <td>y</td>\n",
       "      <td>2021-11-10 13:00:00+00:00</td>\n",
       "      <td>2021-11-10 15:00:00+00:00</td>\n",
       "      <td>alpha</td>\n",
       "      <td>True</td>\n",
       "      <td>20.0</td>\n",
       "      <td>1</td>\n",
       "      <td>a-9</td>\n",
       "    </tr>\n",
       "    <tr>\n",
       "      <th>3</th>\n",
       "      <td>1139859</td>\n",
       "      <td>2021-09-07 19:39:07.182848+00:00</td>\n",
       "      <td>x</td>\n",
       "      <td>y</td>\n",
       "      <td>2021-09-13 05:00:00+00:00</td>\n",
       "      <td>2021-09-13 06:55:00+00:00</td>\n",
       "      <td>beta</td>\n",
       "      <td>True</td>\n",
       "      <td>40.0</td>\n",
       "      <td>0</td>\n",
       "      <td>b-1</td>\n",
       "    </tr>\n",
       "    <tr>\n",
       "      <th>4</th>\n",
       "      <td>594648</td>\n",
       "      <td>2021-09-05 03:48:20.099555+00:00</td>\n",
       "      <td>x</td>\n",
       "      <td>y</td>\n",
       "      <td>2021-09-22 04:00:00+00:00</td>\n",
       "      <td>2021-09-22 06:00:00+00:00</td>\n",
       "      <td>alpha</td>\n",
       "      <td>True</td>\n",
       "      <td>20.0</td>\n",
       "      <td>1</td>\n",
       "      <td>a-1</td>\n",
       "    </tr>\n",
       "  </tbody>\n",
       "</table>\n",
       "</div>"
      ],
      "text/plain": [
       "   Unnamed: 0                                f1 f2 f3  \\\n",
       "0     2694449  2021-09-16 12:20:01.578279+00:00  x  y   \n",
       "1     3088556  2021-09-18 20:13:13.612131+00:00  x  y   \n",
       "2     3914899  2021-09-24 17:53:41.424953+00:00  x  y   \n",
       "3     1139859  2021-09-07 19:39:07.182848+00:00  x  y   \n",
       "4      594648  2021-09-05 03:48:20.099555+00:00  x  y   \n",
       "\n",
       "                          f4                         f5     f6    f7    f8  \\\n",
       "0  2021-10-03 04:40:00+00:00  2021-10-03 06:40:00+00:00  omega  True  20.0   \n",
       "1  2021-09-23 17:05:00+00:00  2021-09-23 19:05:00+00:00  omega  True  20.0   \n",
       "2  2021-11-10 13:00:00+00:00  2021-11-10 15:00:00+00:00  alpha  True  20.0   \n",
       "3  2021-09-13 05:00:00+00:00  2021-09-13 06:55:00+00:00   beta  True  40.0   \n",
       "4  2021-09-22 04:00:00+00:00  2021-09-22 06:00:00+00:00  alpha  True  20.0   \n",
       "\n",
       "   f9  f10  \n",
       "0   1  d-1  \n",
       "1   1  d-5  \n",
       "2   1  a-9  \n",
       "3   0  b-1  \n",
       "4   1  a-1  "
      ]
     },
     "execution_count": 51,
     "metadata": {},
     "output_type": "execute_result"
    }
   ],
   "source": [
    "df1.head()"
   ]
  },
  {
   "cell_type": "code",
   "execution_count": 52,
   "metadata": {},
   "outputs": [],
   "source": [
    "# so need to pass them through same steps then separating x and y data(y will contain only target column)"
   ]
  },
  {
   "cell_type": "code",
   "execution_count": null,
   "metadata": {},
   "outputs": [],
   "source": [
    "# to save prediction\n",
    "\n",
    "# result= pd.DataFrame(pred)\n",
    "# result.index= x_test.index #its important for comparison\n",
    "# result.columns= ['Predictions']\n",
    "# result.to_csv('final_prediction_with_traintestsplit.csv')"
   ]
  }
 ],
 "metadata": {
  "kernelspec": {
   "display_name": "base",
   "language": "python",
   "name": "python3"
  },
  "language_info": {
   "codemirror_mode": {
    "name": "ipython",
    "version": 3
   },
   "file_extension": ".py",
   "mimetype": "text/x-python",
   "name": "python",
   "nbconvert_exporter": "python",
   "pygments_lexer": "ipython3",
   "version": "3.9.12"
  },
  "orig_nbformat": 4,
  "vscode": {
   "interpreter": {
    "hash": "b302cdd1e032ee910f5c889c3360c28564c92ad4f326fc3102e39fbe47faee66"
   }
  }
 },
 "nbformat": 4,
 "nbformat_minor": 2
}
